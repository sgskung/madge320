{
 "cells": [
  {
   "cell_type": "code",
   "execution_count": null,
   "id": "88c97ef0-2eb0-410b-b5c4-e52461f724dc",
   "metadata": {},
   "outputs": [],
   "source": [
    "# import glob\n",
    "# import os\n",
    "import pandas as pd\n",
    "import altair as alt\n",
    "import calendar\n",
    "import datetime\n",
    "from altair import pipe, limit_rows, to_values\n",
    "import utm\n",
    "import requests\n",
    "import geopandas as gpd\n",
    "import json\n",
    "# Handle large data sets without embedding them in the notebook\n",
    "# alt.data_transformers.enable('data_server')\n",
    "# # Include an image for each plot since Gradescope only supports displaying plots as images\n",
    "# alt.renderers.enable('mimetype')\n",
    "# Change the max_rows limit of altair because our dataset is 56,000 rows.\n",
    "t = lambda data: pipe(data, limit_rows(max_rows=60000), to_values)\n",
    "alt.data_transformers.register('custom', t)\n",
    "alt.data_transformers.enable('custom')"
   ]
  },
  {
   "cell_type": "markdown",
   "id": "bca60783",
   "metadata": {},
   "source": [
    "# Reading in Data"
   ]
  },
  {
   "cell_type": "code",
   "execution_count": null,
   "id": "ae2cf838-edd7-480c-993b-342b3c678e31",
   "metadata": {},
   "outputs": [],
   "source": [
    "# Read in the data\n",
    "url = 'https://raw.githubusercontent.com/sgskung/crime320/main/combined.csv'\n",
    "df = pd.read_csv(url)\n",
    "\n",
    "url2 = 'https://raw.githubusercontent.com/sgskung/crime320/main/incomes_ab.csv'\n",
    "df2 = pd.read_csv(url2)\n",
    "\n",
    "url3 = \"http://geodash.vpd.ca/opendata/crimedata_download/crimedata_csv_all_years.csv\"\n",
    "df3 = pd.read_csv(url3)"
   ]
  },
  {
   "cell_type": "code",
   "execution_count": null,
   "id": "69711f51",
   "metadata": {},
   "outputs": [],
   "source": [
    "def crime_type(x):\n",
    "    if 'Theft' in x:\n",
    "        return 'Theft'\n",
    "    elif 'Vehicle Collision' in x:\n",
    "        return 'Vehicle Collision'\n",
    "    elif 'Break and Enter' in x:\n",
    "        return 'Break & Enter'\n",
    "    else:\n",
    "        return x\n",
    "\n",
    "df['crime_type'] = df.apply(lambda x: crime_type(x['TYPE']), axis = 1)\n",
    "df['crime_type'].unique()\n",
    "\n",
    "counts = df.groupby(['crime_type']).count()\n",
    "counts['type'] = counts.index\n",
    "counts['count']= counts['TYPE']\n",
    "counts =counts.drop(['TYPE', 'YEAR', 'MONTH', 'DAY', 'HOUR', 'MINUTE', 'HUNDRED_BLOCK', 'NEIGHBOURHOOD', 'X', 'Y'], axis=1)\n",
    "counts['percent'] = round(((counts['count'] / \n",
    "                  counts['count'].sum())), 3)\n",
    "\n",
    "selection = alt.selection_single()\n",
    "# df\n",
    "donut = alt.Chart(counts).mark_arc(innerRadius=100).add_selection(\n",
    "        selection\n",
    "    ).encode(\n",
    "    theta=alt.Theta(field=\"count\", type=\"quantitative\"),\n",
    "    color=alt.condition(selection, 'crime_type:N', alt.value('grey'), field=\"type\"),\n",
    "        opacity=alt.condition(selection, alt.value(0.8), alt.value(0.1)),\n",
    "    tooltip=[\n",
    "        alt.Tooltip('type:N'),\n",
    "        alt.Tooltip('count:Q'),\n",
    "        alt.Tooltip('percent:Q', format='.1%')\n",
    "    ]\n",
    ").properties(\n",
    "    title='Breakdown of Crimes by Type'\n",
    ")"
   ]
  },
  {
   "cell_type": "code",
   "execution_count": null,
   "id": "cbf1bf62-a870-4209-8772-84e452a3c52d",
   "metadata": {},
   "outputs": [],
   "source": [
    "# Creating necessary variables\n",
    "df['DATE'] = pd.to_datetime(df[['YEAR', 'MONTH', 'DAY']])\n",
    "\n",
    "# Convert column to non-scientific notation with two decimal places\n",
    "df['Y'] = df['Y'].round(3).astype(float)"
   ]
  },
  {
   "cell_type": "code",
   "execution_count": null,
   "id": "192c5299",
   "metadata": {},
   "outputs": [],
   "source": [
    "type(utm.to_latlon(490079.3981, 5460209.675, 10, 'U'))\n",
    "\n",
    "# df\n",
    "# df[\"lat\"] = df.apply(lambda x: utm.to_latlon(x['X'], x['Y'], 10, 'U')[0], axis = 1)\n",
    "\n",
    "filtered_df = df[df['X'] > 0]\n",
    "filtered_df.describe()\n",
    "filtered_df[\"lat\"] = filtered_df.apply(lambda x: utm.to_latlon(x['X'], x['Y'], 10, 'U')[0], axis = 1)\n",
    "filtered_df[\"long\"] = filtered_df.apply(lambda x: utm.to_latlon(x['X'], x['Y'], 10, 'U')[1], axis = 1)\n",
    "filtered_df['name'] = filtered_df['NEIGHBOURHOOD']\n",
    "# filtered_df\n",
    "# for index, row in filtered_df.iterrows():\n",
    "#     print(\"X\")\n",
    "#     print(row['X'])\n",
    "#     print(\"Y\")\n",
    "#     print(row['Y'])\n",
    "#     utm.to_latlon(row['X'], row['Y'], 10, 'U')"
   ]
  },
  {
   "cell_type": "code",
   "execution_count": null,
   "id": "67fe9ded",
   "metadata": {},
   "outputs": [],
   "source": [
    "def count_groups(dataframe, group_column):\n",
    "    \"\"\"\n",
    "    Groups the rows in the given dataframe by the unique values in the specified group_column.\n",
    "    Calculates the count of each group and creates a new dataframe with the name of the group and the count in each column.\n",
    "    \n",
    "    Args:\n",
    "        dataframe (pandas.DataFrame): The input dataframe to group and count.\n",
    "        group_column (str): The name of the column to group by.\n",
    "    \n",
    "    Returns:\n",
    "        pandas.DataFrame: A new dataframe with two columns: the unique values in the group_column, and the count of each group.\n",
    "    \"\"\"\n",
    "    \n",
    "    # Group the dataframe by the unique values in the specified group column\n",
    "    group_counts = dataframe.groupby(group_column).size().reset_index(name='count')\n",
    "    \n",
    "    # Return the new dataframe with the name of the group and the count in each column\n",
    "    return group_counts"
   ]
  },
  {
   "cell_type": "code",
   "execution_count": null,
   "id": "f7ad591a",
   "metadata": {},
   "outputs": [],
   "source": [
    "df3.head(5)"
   ]
  },
  {
   "cell_type": "code",
   "execution_count": null,
   "id": "298b00df",
   "metadata": {},
   "outputs": [],
   "source": [
    "def get_most_common_type(df):\n",
    "    # Group the dataframe by NEIGHBOURHOOD and TYPE and count the occurrences of each group\n",
    "    grouped = df.groupby(['NEIGHBOURHOOD', 'TYPE']).size().reset_index(name='count')\n",
    "    \n",
    "    # Find the index of the row with the maximum count for each NEIGHBOURHOOD group\n",
    "    idx = grouped.groupby('NEIGHBOURHOOD')['count'].transform(max) == grouped['count']\n",
    "    \n",
    "    # Subset the dataframe to the rows with the maximum count for each NEIGHBOURHOOD group\n",
    "    result = grouped[idx][['NEIGHBOURHOOD', 'TYPE']]\n",
    "    \n",
    "    # Convert TYPE to string type\n",
    "    result['TYPE'] = result['TYPE'].astype(str)\n",
    "    \n",
    "    # Group the result dataframe by NEIGHBOURHOOD and combine the TYPE values into a comma-separated string\n",
    "    result = result.groupby('NEIGHBOURHOOD')['TYPE'].apply(lambda x: ', '.join(x)).reset_index()\n",
    "    \n",
    "    return result\n",
    "\n",
    "y = get_most_common_type(df3)"
   ]
  },
  {
   "cell_type": "code",
   "execution_count": null,
   "id": "52d6d202",
   "metadata": {},
   "outputs": [],
   "source": [
    "x = count_groups(df3, \"NEIGHBOURHOOD\")\n",
    "x = x.merge(y, left_on='NEIGHBOURHOOD', right_on='NEIGHBOURHOOD', how='inner')\n",
    "x = x.replace('Central Business District','Downtown')\n",
    "x['MostCommon'] = x['TYPE']\n",
    "x = x.drop(columns='TYPE')"
   ]
  },
  {
   "cell_type": "markdown",
   "id": "955751f7",
   "metadata": {},
   "source": [
    "# Choropleth Map + Donut"
   ]
  },
  {
   "cell_type": "code",
   "execution_count": null,
   "id": "8f7cc571-a767-4414-9072-12bda42daf5c",
   "metadata": {},
   "outputs": [],
   "source": [
    "url_geojson = \"https://raw.githubusercontent.com/blackmad/neighborhoods/master/vancouver.geojson\"\n",
    "data_geojson_remote = alt.Data(url=url_geojson, format=alt.DataFormat(property='features', type='json'))\n",
    "van_hoods = \"https://opendata.vancouver.ca/api/records/1.0/search/?dataset=local-area-boundary&q=&facet=name\"\n",
    "van_hoodss = 'local-area-boundary.shp'"
   ]
  },
  {
   "cell_type": "code",
   "execution_count": null,
   "id": "211ac5e7",
   "metadata": {},
   "outputs": [],
   "source": [
    "gdf = gpd.read_file(van_hoodss)"
   ]
  },
  {
   "cell_type": "code",
   "execution_count": null,
   "id": "a270e69e",
   "metadata": {},
   "outputs": [],
   "source": [
    "gdf = gdf.merge(x, left_on='name', right_on='NEIGHBOURHOOD', how='inner')"
   ]
  },
  {
   "cell_type": "code",
   "execution_count": null,
   "id": "22a1c322",
   "metadata": {},
   "outputs": [],
   "source": [
    "choro_json = json.loads(gdf.to_json())\n",
    "choro_data = alt.Data(values=choro_json['features'])"
   ]
  },
  {
   "cell_type": "code",
   "execution_count": null,
   "id": "d81c5e97",
   "metadata": {},
   "outputs": [],
   "source": [
    "def gen_map(geodata, color_column, title, tooltip, color_scheme='bluegreen'):\n",
    "    \n",
    "    selection = alt.selection_multi(fields=[color_column])\n",
    "    color = alt.condition(selection,\n",
    "              alt.Color(color_column, type='nominal',\n",
    "              scale=alt.Scale(scheme=color_scheme)),\n",
    "              alt.value('lightgray'))\n",
    "    \n",
    "    # Add Base Layer\n",
    "    base = alt.Chart(geodata, title = title).mark_geoshape(\n",
    "        stroke='black',\n",
    "        strokeWidth=1\n",
    "    ).encode(\n",
    "    ).properties(\n",
    "        width=400,\n",
    "        height=400\n",
    "    ).project('mercator')\n",
    "    \n",
    "    # Add Choropleth Layer\n",
    "    choro = alt.Chart(geodata).mark_geoshape(\n",
    "        stroke='black'\n",
    "    ).encode(\n",
    "         color = color,\n",
    "         tooltip = tooltip\n",
    "    ).project('mercator'\n",
    "    ).add_selection(\n",
    "        selection\n",
    "    )\n",
    "    \n",
    "    donut2 = alt.Chart(geodata).mark_arc(innerRadius=100\n",
    "    ).encode(\n",
    "    theta = alt.Theta(field=\"properties.count\", type=\"quantitative\", sort=alt.EncodingSortField(order='ascending')),\n",
    "    color = color,\n",
    "    tooltip=[\n",
    "        alt.Tooltip(color_column, type='nominal'),\n",
    "        alt.Tooltip('properties.count:Q')\n",
    "    ]\n",
    "    ).properties(\n",
    "        title='Breakdown of Crimes by Neighbourhood',\n",
    "        height=350,\n",
    "        width=300\n",
    "    ).add_selection(\n",
    "        selection\n",
    "    )\n",
    "    \n",
    "    return alt.layer(base, choro) | donut2"
   ]
  },
  {
   "cell_type": "code",
   "execution_count": null,
   "id": "c4e36cfa",
   "metadata": {},
   "outputs": [],
   "source": [
    "# crimes = alt.topo_feature(url_geojson, feature = 'Neighbourhood')\n",
    "# counts = count_groups(filtered_df, 'NEIGHBOURHOOD')\n",
    "\n",
    "# map = alt.Chart(crimes).mark_geoshape(stroke='black', strokeWidth=1).encode(\n",
    "#     color='count:Q'\n",
    "# ).transform_lookup(\n",
    "#     lookup='NEIGHBOURHOOD',\n",
    "#     from_ = alt.LookupData(counts, key = 'placeholder', fields = ['NEIGHBOURHOOD', 'count'])\n",
    "# ).properties(\n",
    "#     width=500,\n",
    "#     height=300\n",
    "# ).project('mercator')\n",
    "# map"
   ]
  },
  {
   "cell_type": "code",
   "execution_count": null,
   "id": "4866784d",
   "metadata": {},
   "outputs": [],
   "source": [
    "# gdf = gpd.GeoDataFrame.from_features((anc_json))"
   ]
  },
  {
   "cell_type": "code",
   "execution_count": null,
   "id": "d02a6049",
   "metadata": {},
   "outputs": [],
   "source": [
    "# gdf = gdf.merge(filtered_df, on='name', how='inner')\n",
    "# gdf = gdf.drop(columns = ['created_at', 'updated_at'])\n",
    "# gdf['DATE'] = gdf['DATE'].astype(str)"
   ]
  },
  {
   "cell_type": "code",
   "execution_count": null,
   "id": "02ab8de9",
   "metadata": {},
   "outputs": [],
   "source": [
    "# choro_json = json.loads(gdf.to_json())\n",
    "# choro_data = alt.Data(values=choro_json['features'])"
   ]
  },
  {
   "cell_type": "code",
   "execution_count": null,
   "id": "b138f3ba-4a92-450c-bc85-6edacec74c89",
   "metadata": {},
   "outputs": [],
   "source": [
    "# Code adapted from Vega-Altair 5 Documentation: Geographic Plots\n",
    "\n",
    "# crimes = alt.topo_feature(url_geojson, feature = 'Neighbourhood')\n",
    "# click = alt.selection_multi(fields=['name'])\n",
    "\n",
    "\n",
    "# alt.Chart(crimes).mark_geoshape(fill='lightgray', stroke='white').encode(\n",
    "#     longitude='X:Q',\n",
    "#     latitude='Y:Q'\n",
    "# ).project()\n",
    "\n",
    "# overlay = alt.Chart(hoods).mark_geoshape(stroke='black', fillOpacity=0).encode(\n",
    "# ).project(\n",
    "# ).properties(\n",
    "#     width=400,\n",
    "#     height=200\n",
    "# )\n",
    "\n",
    "# points = alt.Chart(filtered_df).mark_circle(opacity = 0.35).encode(\n",
    "#     longitude='long:Q',\n",
    "#     latitude='lat:Q',\n",
    "#     size=alt.value(5)\n",
    "# )\n",
    "\n",
    "# .transform_lookup(\n",
    "#     lookup='name',\n",
    "#     from_=alt.LookupData(filtered_df, 'id', ['count()', 'NEIGHBOURHOOD'])\n",
    "\n",
    "# .add_selection(click)"
   ]
  },
  {
   "cell_type": "code",
   "execution_count": null,
   "id": "4861b119-9a06-4f37-96da-be958c4dbbb8",
   "metadata": {},
   "outputs": [],
   "source": [
    "# variable = 'DAY'\n",
    "\n",
    "# line = alt.Chart(df).mark_line(\n",
    "# ).encode(\n",
    "#     alt.X(variable, type = 'ordinal'),\n",
    "#     alt.Y('count():Q')\n",
    "# ).properties(\n",
    "#     width = 400,\n",
    "#     height = 200\n",
    "# )"
   ]
  },
  {
   "cell_type": "code",
   "execution_count": null,
   "id": "7dd23f07",
   "metadata": {},
   "outputs": [],
   "source": [
    "# alt.layer(bg, points)"
   ]
  },
  {
   "cell_type": "code",
   "execution_count": null,
   "id": "aefa7534-71a1-406b-aea7-04a0e2d7f440",
   "metadata": {},
   "outputs": [],
   "source": [
    "# timespan = ['Timespan']\n",
    "# select_box = alt.binding_select(options=times, name='column')\n",
    "# sel = alt.selection_single(fields=['column'], bind=select_box, init={'column': 'MONTH'})\n",
    "\n",
    "# alt.Chart(df).mark_line().transform_fold(\n",
    "#     times,\n",
    "#     as_=['column', 'value']\n",
    "# ).transform_filter(\n",
    "#     sel\n",
    "# ).encode(\n",
    "#     alt.X('MONTH:O', type = 'ordinal'),\n",
    "#     alt.Y('count():Q')\n",
    "# ).add_selection(\n",
    "#     sel\n",
    "# )\n",
    "\n",
    "# sel"
   ]
  },
  {
   "cell_type": "markdown",
   "id": "34bec9ae",
   "metadata": {},
   "source": [
    "# Line Chart"
   ]
  },
  {
   "cell_type": "code",
   "execution_count": null,
   "id": "b395d2b0-07ff-4794-8304-ee209b39bf18",
   "metadata": {},
   "outputs": [],
   "source": [
    "# Code adapted from @joelostblom StackOverflow answer: \"Make dropdown selection responsive for y axis Altair python\"\n",
    "\n",
    "times = ['MONTH', 'DAY', 'HOUR']\n",
    "select_box = alt.binding_select(options=times, name='Timespan: ')\n",
    "xcol_param = alt.param(value = 'MONTH', bind = select_box)\n",
    "\n",
    "line = alt.Chart(df, title=\"Crime Occurrences by Time of Day\").mark_line(color='red'\n",
    ").encode(\n",
    "    x=alt.X('x:Q', title=''),\n",
    "    y=alt.Y('count():Q').title('Count of Crime')\n",
    ").transform_calculate(\n",
    "    x=f'datum[{xcol_param.name}]'\n",
    ").add_params(\n",
    "    xcol_param\n",
    ")"
   ]
  },
  {
   "cell_type": "markdown",
   "id": "955d62df",
   "metadata": {},
   "source": [
    "# Bar Chart + Bubble"
   ]
  },
  {
   "cell_type": "code",
   "execution_count": null,
   "id": "0979ae7b-378b-47f5-9503-0ef1c407df6c",
   "metadata": {},
   "outputs": [],
   "source": [
    "neighbours = df['NEIGHBOURHOOD'].unique() # get unique field values\n",
    "neighbours = list(filter(lambda d: d is not None, neighbours)) # filter out None values\n",
    "neighbours.sort() # sort alphabetically"
   ]
  },
  {
   "cell_type": "code",
   "execution_count": null,
   "id": "1e5a83d3-ff0b-4c41-b0f5-3afe6ff97fe2",
   "metadata": {},
   "outputs": [],
   "source": [
    "# selectNeighbour = alt.selection_single(\n",
    "#     name='Select', # name the selection 'Select'\n",
    "#     fields=['NEIGHBOURHOOD'], # limit selection to the Major_Genre field\n",
    "#     init={'NEIGHBOURHOOD': neighbours[0]}, # use first genre entry as initial value\n",
    "#     bind=alt.binding_select(options=neighbours) # bind to a menu of unique genre values\n",
    "# )\n",
    "\n",
    "# alt.Chart(df).mark_bar().add_selection(\n",
    "#     selectNeighbour\n",
    "# ).encode(\n",
    "#     x='NEIGHBOURHOOD:N',\n",
    "#     y='count():Q',\n",
    "#     opacity=alt.condition(selectNeighbour, alt.value(1), alt.value(0.05))\n",
    "# )"
   ]
  },
  {
   "cell_type": "code",
   "execution_count": null,
   "id": "2ae136b8-aa23-45a3-a75b-589873a9a2e1",
   "metadata": {},
   "outputs": [],
   "source": [
    "crime_type_count_bar = alt.Chart(df).mark_bar().encode(    \n",
    "    alt.X(\"NEIGHBOURHOOD\", sort = '-y'),\n",
    "    alt.Y(\"count()\"),\n",
    "    alt.Color('NEIGHBOURHOOD', scale=alt.Scale(scheme='purpleorange')),\n",
    "    #alt.Tooltip('TYPE')\n",
    ").properties(\n",
    "    height = 275,\n",
    "    width = 300\n",
    ")"
   ]
  },
  {
   "cell_type": "code",
   "execution_count": null,
   "id": "3ca41653-5532-465d-9600-4c066b9f5a17",
   "metadata": {},
   "outputs": [],
   "source": [
    "#join median income column to df\n",
    "\n",
    "# extracted_income = df2['Median Household Income After Taxes']\n",
    "# df_w_income = df.join(extracted_income)\n",
    "d = {}\n",
    "for index, row in df2.iterrows():\n",
    "    d[row['Neighborhood']] = row['Median Household Income After Taxes']\n",
    "    # print(row['Neighborhood'])\n",
    "\n",
    "df['Income'] = df.apply(lambda x: d[x['NEIGHBOURHOOD']], axis = 1)"
   ]
  },
  {
   "cell_type": "code",
   "execution_count": null,
   "id": "083d1b47-e0ec-4061-ba97-fe4957e16abc",
   "metadata": {},
   "outputs": [],
   "source": [
    "crime_bubble = alt.Chart(df).mark_circle().encode(    \n",
    "    alt.X(\"Income\", axis = None),\n",
    "    alt.Y(\"count()\", axis = None),\n",
    "    alt.Color('TYPE', scale=alt.Scale(scheme='purpleorange')),\n",
    "    alt.Tooltip('Income'),\n",
    "    alt.Size(\"count()\", scale=alt.Scale(range=[10, 500]))\n",
    ").properties(\n",
    "    height = 300,\n",
    "    width = 350\n",
    ")"
   ]
  },
  {
   "cell_type": "code",
   "execution_count": null,
   "id": "d25cb35a-6f0b-4dad-9f61-b6c68345fb7b",
   "metadata": {},
   "outputs": [],
   "source": [
    "# Bubble\n",
    "# .configure_axis(\n",
    "#     grid = False\n",
    "# ).configure_view(\n",
    "#     strokeWidth = 0\n",
    "\n",
    "\n",
    "# Bar\n",
    "# .configure_axis(\n",
    "#     grid = False\n",
    "# )"
   ]
  },
  {
   "cell_type": "code",
   "execution_count": null,
   "id": "bb0a7aa7-b5ac-4c4b-9fa4-fa9daa346199",
   "metadata": {},
   "outputs": [],
   "source": [
    "# Code adapted from Vega-Altair 5: Interaction Documentation\n",
    " \n",
    "selection = alt.selection_point(fields=['NEIGHBOURHOOD'])\n",
    "color = alt.condition(selection,\n",
    "                      alt.Color('NEIGHBOURHOOD:N', scale=alt.Scale(scheme='purpleorange')),\n",
    "                      alt.value('lightgray'))\n",
    "\n",
    "crime_type = alt.Chart(df).mark_bar().encode(    \n",
    "    alt.X(\"NEIGHBOURHOOD\", sort = '-y'),\n",
    "    alt.Y(\"count()\"),\n",
    "    color = color,\n",
    "    #alt.Tooltip('TYPE')\n",
    ").properties(\n",
    "    height = 275,\n",
    "    width = 300\n",
    ").add_params(\n",
    "    selection\n",
    ")\n",
    "\n",
    "crime_bub = alt.Chart(df).mark_circle().encode(    \n",
    "    alt.X(\"Income\", axis = None),\n",
    "    alt.Y(\"count()\", axis = None),\n",
    "    alt.Tooltip('Income'),\n",
    "    alt.Size(\"count()\", scale=alt.Scale(range=[10, 500])),\n",
    "    color = color\n",
    ").properties(\n",
    "    height = 300,\n",
    "    width = 350\n",
    ")"
   ]
  },
  {
   "cell_type": "markdown",
   "id": "2b66b0a2",
   "metadata": {},
   "source": [
    "# All Visualizations"
   ]
  },
  {
   "cell_type": "code",
   "execution_count": null,
   "id": "a1254ffc",
   "metadata": {},
   "outputs": [],
   "source": [
    "van_map = gen_map(geodata=choro_data,\n",
    "                      color_column='properties.name',\n",
    "                      title=f'Crime by Location',\n",
    "                      tooltip=['properties.name:O', 'properties.MostCommon:N'])\n",
    "van_map"
   ]
  },
  {
   "cell_type": "code",
   "execution_count": null,
   "id": "01c8f173-4fd5-479c-945f-5ede2e7f1c8b",
   "metadata": {},
   "outputs": [],
   "source": [
    "crime_bub | crime_type"
   ]
  },
  {
   "cell_type": "code",
   "execution_count": null,
   "id": "b4932bea",
   "metadata": {},
   "outputs": [],
   "source": [
    "line"
   ]
  }
 ],
 "metadata": {
  "kernelspec": {
   "display_name": "Python 3 (ipykernel)",
   "language": "python",
   "name": "python3"
  },
  "language_info": {
   "codemirror_mode": {
    "name": "ipython",
    "version": 3
   },
   "file_extension": ".py",
   "mimetype": "text/x-python",
   "name": "python",
   "nbconvert_exporter": "python",
   "pygments_lexer": "ipython3",
   "version": "3.10.9"
  }
 },
 "nbformat": 4,
 "nbformat_minor": 5
}
